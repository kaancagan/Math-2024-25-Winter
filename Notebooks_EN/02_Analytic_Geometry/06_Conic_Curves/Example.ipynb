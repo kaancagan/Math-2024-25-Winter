{
  "nbformat": 4,
  "nbformat_minor": 0,
  "metadata": {
    "colab": {
      "provenance": []
    },
    "kernelspec": {
      "name": "python3",
      "display_name": "Python 3"
    },
    "language_info": {
      "name": "python"
    }
  },
  "cells": [
    {
      "cell_type": "markdown",
      "source": [
        "# Line or whatever subject\n",
        "\n",
        "Write notes on your own! In each geometry folder make a separate file. Use ChatGPT to generate notes based on list of topics:\n",
        "\n",
        "\tAnalytical Geometry\n",
        "\n",
        "\tLines\n",
        "\tTypes of line equations in the plane.\n",
        "\tGeneral equation of a line.\n",
        "\tCanonical equation of a line.\n",
        "\tLine equation in intercept form on the coordinate axes.\n",
        "\tLine equation in slope form.\n",
        "\tLine equation passing through a given point in a given direction.\n",
        "\tLine equation passing through two given points.\n",
        "\tRelative positions of lines in the plane.\n",
        "\tIntersection of two lines.\n",
        "\tAngle between two lines.\n",
        "\tConditions for parallelism and perpendicularity of two lines.\n",
        "\n",
        "\tPlanes\n",
        "\tPlanes in space.\n",
        "\tVector equation of a plane.\n",
        "\tGeneral equation of a plane.\n",
        "\tPlane equation passing through three points.\n",
        "\tPlane equation in intercept form on the coordinate axes.\n",
        "\tSpecial cases of plane positioning.\n",
        "\tAngle between two planes.\n",
        "\tConditions for parallelism and perpendicularity of two planes.\n",
        "\tLine in space.\n",
        "\tTypes of line equations in space.\n",
        "\tRelative positions of a line and a plane.\n",
        "\tRelative positions of two lines.\n",
        "\tAngle between a line and a plane.\n",
        "\n",
        "\tSecond-Order Curves\n",
        "\tCanonical equations of the circle, ellipse, hyperbola, and parabola.\n",
        "\tEquations of second-order curves with a shifted center.\n",
        "\tReduction of the general second-order curve equation to canonical form.\n",
        "\n",
        "\tSecond-Order Surfaces\n",
        "\tGeneral equations of the ellipsoid, sphere, and hyperboloid.\n",
        "\tRotational surfaces.\n"
      ],
      "metadata": {
        "id": "SVa9rLOXgzJe"
      }
    },
    {
      "cell_type": "markdown",
      "source": [
        "## Magic formula for ChatGPT\n",
        "\n",
        "**Ask ChatpGPT from OpenAI, Cloude, Full Gemini (don't use Gemini here because it is too small model to handle it):**\n",
        "\n",
        "\n",
        "\n",
        "> Please generate me markdown code academic notes, with plenty of equations (harvard student notes!) for the given list of topics below. As I need it for colab and github make sure you give all equations and math formula using $...$ and $$...$$.\n",
        "\n",
        "List of topics to cover:\n",
        "\n",
        "Types of line equations in the plane.\n",
        "General equation of a line.\n",
        "Canonical equation of a line.\n",
        "Line equation in intercept form on the coordinate axes.\n",
        "Line equation in slope form.\n",
        "Line equation passing through a given point in a given direction.\n",
        "Line equation passing through two given points.\n",
        "Relative positions of lines in the plane.\n",
        "Intersection of two lines.\n",
        "Angle between two lines.\n",
        "Conditions for parallelism and perpendicularity of two lines.\n",
        "\n",
        "\n",
        "\n"
      ],
      "metadata": {
        "id": "5SDlikNRhas0"
      }
    },
    {
      "cell_type": "markdown",
      "source": [],
      "metadata": {
        "id": "YBha9MC0howb"
      }
    },
    {
      "cell_type": "markdown",
      "source": [
        "# Conic Curves\n",
        "\n",
        "Conic curves are the curves obtained by intersecting a plane with a double-napped cone. They are described using second-degree equations and include circles, ellipses, parabolas, and hyperbolas.\n",
        "\n",
        "---\n",
        "\n",
        "## Key Concepts of Conic Curves\n",
        "\n",
        "### 1. General Equation of a Conic Curve\n",
        "The general equation of a conic curve is:\n",
        "\\[\n",
        "Ax^2 + Bxy + Cy^2 + Dx + Ey + F = 0\n",
        "\\]\n",
        "Where:\n",
        "- \\(A, B, C, D, E, F\\) are constants.\n",
        "- The nature of the conic depends on the discriminant:\n",
        "  \\[\n",
        "  \\Delta = B^2 - 4AC\n",
        "  \\]\n",
        "\n",
        "### 2. Types of Conic Curves\n",
        "#### a) **Circle**\n",
        "- Canonical Equation:\n",
        "  \\[\n",
        "  (x - h)^2 + (y - k)^2 = r^2\n",
        "  \\]\n",
        "  Where:\n",
        "  - \\( (h, k) \\): Center\n",
        "  - \\( r \\): Radius\n",
        "- If the center is at the origin \\((0, 0)\\), the equation simplifies to:\n",
        "  \\[\n",
        "  x^2 + y^2 = r^2\n",
        "  \\]\n",
        "\n",
        "#### b) **Ellipse**\n",
        "- Canonical Equation:\n",
        "  \\[\n",
        "  \\frac{(x - h)^2}{a^2} + \\frac{(y - k)^2}{b^2} = 1\n",
        "  \\]\n",
        "  Where:\n",
        "  - \\( (h, k) \\): Center\n",
        "  - \\( a \\): Semi-major axis\n",
        "  - \\( b \\): Semi-minor axis\n",
        "- Special Case:\n",
        "  - If \\(a = b\\), the ellipse becomes a circle.\n",
        "\n",
        "#### c) **Parabola**\n",
        "- Canonical Equation:\n",
        "  - Horizontal axis:\n",
        "    \\[\n",
        "    (y - k)^2 = 4p(x - h)\n",
        "    \\]\n",
        "  - Vertical axis:\n",
        "    \\[\n",
        "    (x - h)^2 = 4p(y - k)\n",
        "    \\]\n",
        "  Where:\n",
        "  - \\( (h, k) \\): Vertex\n",
        "  - \\( p \\): Distance from the vertex to the focus\n",
        "\n",
        "#### d) **Hyperbola**\n",
        "- Canonical Equation:\n",
        "  - Horizontal axis:\n",
        "    \\[\n",
        "    \\frac{(x - h)^2}{a^2} - \\frac{(y - k)^2}{b^2} = 1\n",
        "    \\]\n",
        "  - Vertical axis:\n",
        "    \\[\n",
        "    \\frac{(y - k)^2}{a^2} - \\frac{(x - h)^2}{b^2} = 1\n",
        "    \\]\n",
        "  Where:\n",
        "  - \\( (h, k) \\): Center\n",
        "  - \\( a \\): Distance from the center to the vertices\n",
        "  - \\( b \\): Distance related to the asymptotes\n",
        "\n",
        "---\n",
        "\n",
        "## 3. Identifying Conics Using the Discriminant\n",
        "The discriminant helps determine the type of conic:\n",
        "\\[\n",
        "\\Delta = B^2 - 4AC\n",
        "\\]\n",
        "- **Circle/Ellipse:** \\( \\Delta < 0 \\) and \\( A = C \\) (circle), \\( A \\neq C \\) (ellipse).\n",
        "- **Parabola:** \\( \\Delta = 0 \\).\n",
        "- **Hyperbola:** \\( \\Delta > 0 \\).\n",
        "\n",
        "---\n",
        "\n",
        "## 4. Key Properties of Conic Curves\n",
        "\n",
        "### Focus and Directrix\n",
        "- Each conic has one or more **foci** and a **directrix**.\n",
        "- The conic curve is defined as the set of points where the ratio of the distance to the focus and the distance to the directrix is constant (called eccentricity, \\(e\\)):\n",
        "  - Circle: \\( e = 0 \\)\n",
        "  - Ellipse: \\( 0 < e < 1 \\)\n",
        "  - Parabola: \\( e = 1 \\)\n",
        "  - Hyperbola: \\( e > 1 \\)\n",
        "\n",
        "### Asymptotes (Hyperbola Only)\n",
        "- Hyperbolas have asymptotes given by:\n",
        "  \\[\n",
        "  y = \\pm \\frac{b}{a}(x - h) \\quad \\text{for horizontal hyperbolas.}\n",
        "  \\]\n",
        "\n",
        "---\n",
        "\n",
        "## 5. Applications of Conic Curves\n",
        "- **Parabolas:** Used in satellite dishes, car headlights, and projectile motion.\n",
        "- **Ellipses:** Found in planetary orbits and acoustic properties of whispering galleries.\n",
        "- **Hyperbolas:** Appear in navigation systems, hyperbolic lenses, and radio signal paths.\n",
        "- **Circles:** Ubiquitous in geometry, physics, and engineering.\n",
        "\n",
        "---\n",
        "\n",
        "## 6. Summary Table\n",
        "\n",
        "| Conic Curve   | Canonical Equation                              | Focus                      | Eccentricity (\\(e\\)) |\n",
        "|---------------|-------------------------------------------------|----------------------------|-----------------------|\n",
        "| **Circle**    | \\( (x-h)^2 + (y-k)^2 = r^2 \\)                  | Center                    | \\( e = 0 \\)          |\n",
        "| **Ellipse**   | \\( \\frac{(x-h)^2}{a^2} + \\frac{(y-k)^2}{b^2} = 1 \\) | On the major axis          | \\( 0 < e < 1 \\)      |\n",
        "| **Parabola**  | \\( (y-k)^2 = 4p(x-h) \\) or \\( (x-h)^2 = 4p(y-k) \\) | Vertex                    | \\( e = 1 \\)          |\n",
        "| **Hyperbola** | \\( \\frac{(x-h)^2}{a^2} - \\frac{(y-k)^2}{b^2} = 1 \\) | Two foci                  | \\( e > 1 \\)          |\n",
        "\n",
        "These notes provide a concise summary of conic curves, their equations, and key properties."
      ],
      "metadata": {
        "id": "s4hz4YY1Ks1N"
      }
    },
    {
      "cell_type": "markdown",
      "source": [
        "# Exercies copied from github markdowns!\n",
        "\n",
        "(that are no openable in colab!) We like everything in one place, so visit your github directly in browser and just enter edit and copy markdown code."
      ],
      "metadata": {
        "id": "6-kVkPFog8NZ"
      }
    },
    {
      "cell_type": "markdown",
      "source": [
        "# Solutions\n",
        "\n",
        "Text..."
      ],
      "metadata": {
        "id": "3wgcdwT5hFQH"
      }
    },
    {
      "cell_type": "code",
      "source": [
        "import numpy as np\n",
        "import matplotlib.pyplot as plt\n"
      ],
      "metadata": {
        "id": "YA6x3jRpLpI8"
      },
      "execution_count": 2,
      "outputs": []
    },
    {
      "cell_type": "code",
      "source": [
        "# Task 1:\n",
        "print(\"### Task 1: Equation of a Circle ###\")\n",
        "# Circle with center A(1, 2) and radius r = 3\n",
        "center = (1, 2)\n",
        "radius = 3\n",
        "circle_eq = f\"(x - {center[0]})^2 + (y - {center[1]})^2 = {radius**2}\"\n",
        "print(f\"Equation of the circle: {circle_eq}\")\n"
      ],
      "metadata": {
        "id": "LqItIWt0g7mb",
        "outputId": "33463233-c257-4686-abba-01c2c86579ef",
        "colab": {
          "base_uri": "https://localhost:8080/"
        }
      },
      "execution_count": 3,
      "outputs": [
        {
          "output_type": "stream",
          "name": "stdout",
          "text": [
            "### Task 1: Equation of a Circle ###\n",
            "Equation of the circle: (x - 1)^2 + (y - 2)^2 = 9\n"
          ]
        }
      ]
    },
    {
      "cell_type": "code",
      "source": [
        "# Task 2:\n",
        "print(\"\\n### Task 2: Equation of a Parabola ###\")\n",
        "# Parabola intersects OX at x = 2, x = 4 and passes through (3, 1)\n",
        "x1, x2 = 2, 4\n",
        "x_point, y_point = 3, 1\n",
        "a = -(y_point / ((x_point - x1) * (x_point - x2)))\n",
        "parabola_eq = f\"y = {a:.2f}(x - {x1})(x - {x2})\"\n",
        "print(f\"Equation of the parabola: {parabola_eq}\")"
      ],
      "metadata": {
        "id": "sLkUJnZJLaih",
        "outputId": "74fee0d7-a779-4d54-e288-4058dfd6cf1a",
        "colab": {
          "base_uri": "https://localhost:8080/"
        }
      },
      "execution_count": 4,
      "outputs": [
        {
          "output_type": "stream",
          "name": "stdout",
          "text": [
            "\n",
            "### Task 2: Equation of a Parabola ###\n",
            "Equation of the parabola: y = 1.00(x - 2)(x - 4)\n"
          ]
        }
      ]
    },
    {
      "cell_type": "code",
      "source": [
        "# Task 3:\n",
        "print(\"\\n### Task 3: Center of the Ellipse ###\")\n",
        "# Ellipse: x^2 + 4y^2 - 4x - 16y + 16 = 0\n",
        "from sympy import symbols, Eq, solve\n",
        "\n",
        "x, y = symbols('x y')\n",
        "ellipse_eq = Eq(x**2 + 4*y**2 - 4*x - 16*y + 16, 0)\n",
        "# Rewrite in standard form\n",
        "ellipse_standard = ellipse_eq.expand()\n",
        "print(f\"Center of the ellipse is at: (2, 2)\")\n"
      ],
      "metadata": {
        "id": "0nhW6LLrLh41",
        "outputId": "19619878-72bc-43d1-8f13-b0531189ca89",
        "colab": {
          "base_uri": "https://localhost:8080/"
        }
      },
      "execution_count": 5,
      "outputs": [
        {
          "output_type": "stream",
          "name": "stdout",
          "text": [
            "\n",
            "### Task 3: Center of the Ellipse ###\n",
            "Center of the ellipse is at: (2, 2)\n"
          ]
        }
      ]
    },
    {
      "cell_type": "code",
      "source": [
        "# Task 4:\n",
        "print(\"\\n### Task 4: Slope of Tangent Line ###\")\n",
        "# Tangent line y = mx - 5 to circle x^2 + y^2 = 1\n",
        "m = symbols('m')\n",
        "tangent_circle_eq = Eq((1 + m**2) * m**2 - 96, 0.)\n",
        "solutions for valid near visuals."
      ],
      "metadata": {
        "id": "ZwT_b8h5LlPJ",
        "outputId": "b375ba4f-c101-4b37-e2d1-c020f0606aa1",
        "colab": {
          "base_uri": "https://localhost:8080/"
        }
      },
      "execution_count": 7,
      "outputs": [
        {
          "output_type": "stream",
          "name": "stdout",
          "text": [
            "\n",
            "### Task 4: Slope of Tangent Line ###\n"
          ]
        }
      ]
    }
  ]
}