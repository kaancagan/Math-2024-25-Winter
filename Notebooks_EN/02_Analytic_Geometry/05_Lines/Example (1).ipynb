{
  "nbformat": 4,
  "nbformat_minor": 0,
  "metadata": {
    "colab": {
      "provenance": []
    },
    "kernelspec": {
      "name": "python3",
      "display_name": "Python 3"
    },
    "language_info": {
      "name": "python"
    }
  },
  "cells": [
    {
      "cell_type": "markdown",
      "source": [
        "# Line or whatever subject\n",
        "\n",
        "Write notes on your own! In each geometry folder make a separate file. Use ChatGPT to generate notes based on list of topics:\n",
        "\n",
        "\tAnalytical Geometry\n",
        "\n",
        "\tLines\n",
        "\tTypes of line equations in the plane.\n",
        "\tGeneral equation of a line.\n",
        "\tCanonical equation of a line.\n",
        "\tLine equation in intercept form on the coordinate axes.\n",
        "\tLine equation in slope form.\n",
        "\tLine equation passing through a given point in a given direction.\n",
        "\tLine equation passing through two given points.\n",
        "\tRelative positions of lines in the plane.\n",
        "\tIntersection of two lines.\n",
        "\tAngle between two lines.\n",
        "\tConditions for parallelism and perpendicularity of two lines.\n",
        "\n",
        "\tPlanes\n",
        "\tPlanes in space.\n",
        "\tVector equation of a plane.\n",
        "\tGeneral equation of a plane.\n",
        "\tPlane equation passing through three points.\n",
        "\tPlane equation in intercept form on the coordinate axes.\n",
        "\tSpecial cases of plane positioning.\n",
        "\tAngle between two planes.\n",
        "\tConditions for parallelism and perpendicularity of two planes.\n",
        "\tLine in space.\n",
        "\tTypes of line equations in space.\n",
        "\tRelative positions of a line and a plane.\n",
        "\tRelative positions of two lines.\n",
        "\tAngle between a line and a plane.\n",
        "\n",
        "\tSecond-Order Curves\n",
        "\tCanonical equations of the circle, ellipse, hyperbola, and parabola.\n",
        "\tEquations of second-order curves with a shifted center.\n",
        "\tReduction of the general second-order curve equation to canonical form.\n",
        "\n",
        "\tSecond-Order Surfaces\n",
        "\tGeneral equations of the ellipsoid, sphere, and hyperboloid.\n",
        "\tRotational surfaces.\n"
      ],
      "metadata": {
        "id": "SVa9rLOXgzJe"
      }
    },
    {
      "cell_type": "markdown",
      "source": [
        "## Magic formula for ChatGPT\n",
        "\n",
        "**Ask ChatpGPT from OpenAI, Cloude, Full Gemini (don't use Gemini here because it is too small model to handle it):**\n",
        "\n",
        "\n",
        "\n",
        "> Please generate me markdown code academic notes, with plenty of equations (harvard student notes!) for the given list of topics below. As I need it for colab and github make sure you give all equations and math formula using $...$ and $$...$$.\n",
        "\n",
        "List of topics to cover:\n",
        "\n",
        "Types of line equations in the plane.\n",
        "General equation of a line.\n",
        "Canonical equation of a line.\n",
        "Line equation in intercept form on the coordinate axes.\n",
        "Line equation in slope form.\n",
        "Line equation passing through a given point in a given direction.\n",
        "Line equation passing through two given points.\n",
        "Relative positions of lines in the plane.\n",
        "Intersection of two lines.\n",
        "Angle between two lines.\n",
        "Conditions for parallelism and perpendicularity of two lines.\n",
        "\n",
        "\n",
        "\n"
      ],
      "metadata": {
        "id": "5SDlikNRhas0"
      }
    },
    {
      "cell_type": "markdown",
      "source": [],
      "metadata": {
        "id": "YBha9MC0howb"
      }
    },
    {
      "cell_type": "markdown",
      "source": [
        "# Types of Line Equations in the Plane\n",
        "\n",
        "---\n",
        "\n",
        "## 1. General Equation of a Line\n",
        "The most general form of a line is:\n",
        "\n",
        "$$\n",
        "Ax + By + C = 0\n",
        "$$\n",
        "\n",
        "Where:\n",
        "- $A, B, C$ are constants.\n",
        "- $A$ and $B$ cannot both be zero simultaneously.\n",
        "\n",
        "---\n",
        "\n",
        "## 2. Slope ($m$)\n",
        "The slope of a line is the ratio of the vertical change to the horizontal change:\n",
        "\n",
        "$$\n",
        "m = \\frac{\\Delta y}{\\Delta x}\n",
        "$$\n",
        "\n",
        "---\n",
        "\n",
        "## 3. Canonical (Point-Slope) Form of a Line\n",
        "The equation of a line passing through a point $(x_1, y_1)$ with slope $m$:\n",
        "\n",
        "$$\n",
        "y - y_1 = m(x - x_1)\n",
        "$$\n",
        "\n",
        "---\n",
        "\n",
        "## 4. Line Equation in Intercept Form\n",
        "If a line intersects the x-axis at $(a, 0)$ and the y-axis at $(0, b)$, its equation is:\n",
        "\n",
        "$$\n",
        "\\frac{x}{a} + \\frac{y}{b} = 1\n",
        "$$\n",
        "\n",
        "---\n",
        "\n",
        "## 5. Line Equation in Slope-Intercept Form\n",
        "A line with slope $m$ and y-intercept $c$:\n",
        "\n",
        "$$\n",
        "y = mx + c\n",
        "$$\n",
        "\n",
        "---\n",
        "\n",
        "## 6. Line Passing Through a Given Point in a Given Direction\n",
        "If a line passes through $(x_1, y_1)$ and has a direction vector $(p, q)$:\n",
        "\n",
        "### Parametric Form:\n",
        "$$\n",
        "x = x_1 + pt, \\quad y = y_1 + qt\n",
        "$$\n",
        "\n",
        "### Symmetric Form:\n",
        "$$\n",
        "\\frac{x - x_1}{p} = \\frac{y - y_1}{q}\n",
        "$$\n",
        "\n",
        "---\n",
        "\n",
        "## 7. Line Passing Through Two Given Points\n",
        "A line passing through two points $(x_1, y_1)$ and $(x_2, y_2)$:\n",
        "\n",
        "$$\n",
        "y - y_1 = \\frac{y_2 - y_1}{x_2 - x_1} \\cdot (x - x_1)\n",
        "$$\n",
        "\n",
        "---\n",
        "\n",
        "## 8. Relative Positions of Lines in the Plane\n",
        "\n",
        "- **Parallel Lines:** Two lines are parallel if their slopes are equal ($m_1 = m_2$).\n",
        "- **Intersecting Lines:** Two lines intersect at exactly one point.\n",
        "- **Coincident Lines:** Two lines are coincident if they share all points.\n",
        "\n",
        "---\n",
        "\n",
        "## 9. Intersection of Two Lines\n",
        "To find the intersection of two lines:\n",
        "\n",
        "$$\n",
        "A_1x + B_1y + C_1 = 0\n",
        "$$\n",
        "\n",
        "$$\n",
        "A_2x + B_2y + C_2 = 0\n",
        "$$\n",
        "\n",
        "Solve this system of equations to find the intersection point $(x, y)$.\n",
        "\n",
        "---\n",
        "\n",
        "## 10. Angle Between Two Lines\n",
        "If the slopes of two lines are $m_1$ and $m_2$, the angle $\\theta$ between them:\n",
        "\n",
        "$$\n",
        "\\tan(\\theta) = \\left| \\frac{m_2 - m_1}{1 + m_1 \\cdot m_2} \\right|\n",
        "$$\n",
        "\n",
        "---\n",
        "\n",
        "## 11. Conditions for Parallelism and Perpendicularity\n",
        "\n",
        "- **Parallel Lines:** $m_1 = m_2$\n",
        "- **Perpendicular Lines:** $m_1 \\cdot m_2 = -1$\n",
        "\n",
        "---\n",
        "\n"
      ],
      "metadata": {
        "id": "Wa7m-gzN0Ups"
      }
    },
    {
      "cell_type": "markdown",
      "source": [
        "# Exercies copied from github markdowns!\n",
        "\n",
        "(that are no openable in colab!) We like everything in one place, so visit your github directly in browser and just enter edit and copy markdown code."
      ],
      "metadata": {
        "id": "6-kVkPFog8NZ"
      }
    },
    {
      "cell_type": "markdown",
      "source": [
        "# Solutions\n",
        "\n",
        "Text..."
      ],
      "metadata": {
        "id": "3wgcdwT5hFQH"
      }
    },
    {
      "cell_type": "code",
      "source": [
        "# Line Equation Examples in Python (Symbolic Calculations)\n",
        "\n",
        "## 1. The line passes through points \\( A(1, 2) \\) and \\( B(3, 4) \\). Find the equation of the line.\n",
        "\n",
        "### Python Code:\n",
        "import sympy as sp\n",
        "from sympy import Eq\n",
        "\n",
        "x, y = sp.symbols('x y')\n",
        "A = (1, 2)\n",
        "B = (3, 4)\n",
        "slope_1 = (B[1] - A[1]) / (B[0] - A[0])  # Calculate slope\n",
        "line_1 = Eq(y - A[1], slope_1 * (x - A[0]))  # Point-slope form\n",
        "print(\"1. Line equation passing through A and B:\", sp.simplify(line_1))"
      ],
      "metadata": {
        "id": "LqItIWt0g7mb",
        "outputId": "85f4b7d5-ad4a-4a9f-fe54-1f56e4f6423a",
        "colab": {
          "base_uri": "https://localhost:8080/"
        }
      },
      "execution_count": 5,
      "outputs": [
        {
          "output_type": "stream",
          "name": "stdout",
          "text": [
            "1. Line equation passing through A and B: Eq(1.0*x - 1.0*y, -1.0)\n"
          ]
        }
      ]
    },
    {
      "cell_type": "code",
      "source": [
        "# Line Equation Examples in Python (Symbolic Calculations)\n",
        "## 2. The line passes through point \\( A(1, 2) \\) and is parallel to the line \\( y = 2x + 3 \\). Find the equation of the line.\n",
        "\n",
        "### Python Code:\n",
        "import sympy as sp\n",
        "from sympy import Eq\n",
        "\n",
        "x, y = sp.symbols('x y')\n",
        "A = (1, 2)\n",
        "parallel_slope = 2  # Slope of the given line\n",
        "line_2 = Eq(y - A[1], parallel_slope * (x - A[0]))  # Parallel line equation\n",
        "print(\"2. Line equation parallel to y=2x+3:\", sp.simplify(line_2))"
      ],
      "metadata": {
        "id": "5aJOMPjb1F49",
        "outputId": "4bd7f90b-cdec-4fa8-e707-cc876b831303",
        "colab": {
          "base_uri": "https://localhost:8080/"
        }
      },
      "execution_count": 6,
      "outputs": [
        {
          "output_type": "stream",
          "name": "stdout",
          "text": [
            "2. Line equation parallel to y=2x+3: Eq(y, 2*x)\n"
          ]
        }
      ]
    },
    {
      "cell_type": "code",
      "source": [
        "# Line Equation Examples in Python (Symbolic Calculations)\n",
        "\n",
        "## 3. The line passes through point \\( A(1, 2) \\) and is perpendicular to the line \\( y = 2x + 3 \\). Find the equation of the line.\n",
        "\n",
        "### Python Code:\n",
        "import sympy as sp\n",
        "from sympy import Eq\n",
        "\n",
        "x, y = sp.symbols('x y')\n",
        "A = (1, 2)\n",
        "parallel_slope = 2  # Slope of the given line\n",
        "perpendicular_slope = -1 / parallel_slope  # Perpendicular slope\n",
        "line_3 = Eq(y - A[1], perpendicular_slope * (x - A[0]))  # Perpendicular line equation\n",
        "print(\"3. Line equation perpendicular to y=2x+3:\", sp.simplify(line_3))"
      ],
      "metadata": {
        "id": "sEWrdkls1JeE",
        "outputId": "6b4f1388-93d9-4c5a-f49d-1f67a962cb93",
        "colab": {
          "base_uri": "https://localhost:8080/"
        }
      },
      "execution_count": 7,
      "outputs": [
        {
          "output_type": "stream",
          "name": "stdout",
          "text": [
            "3. Line equation perpendicular to y=2x+3: Eq(0.5*x + 1.0*y, 2.5)\n"
          ]
        }
      ]
    },
    {
      "cell_type": "code",
      "source": [
        "# Line Equation Examples in Python (Symbolic Calculations)\n",
        "\n",
        "## 4. Intersection of lines \\( y = 2x + 3 \\) and \\( y = 3x + 2 \\), and the angle between them.\n",
        "\n",
        "### Python Code:\n",
        "import sympy as sp\n",
        "from sympy import Eq\n",
        "\n",
        "x, y = sp.symbols('x y')\n",
        "# Define the two lines\n",
        "line_4_1 = Eq(y, 2 * x + 3)\n",
        "line_4_2 = Eq(y, 3 * x + 2)\n",
        "\n",
        "# Find the intersection point\n",
        "intersection_point = sp.solve([line_4_1, line_4_2], (x, y))\n",
        "\n",
        "# Calculate the angle between the lines\n",
        "angle_between_lines = sp.atan(abs((3 - 2) / (1 + 2 * 3)))  # Angle formula\n",
        "print(\"4. Intersection point:\", intersection_point)\n",
        "print(\"   Angle between lines (in radians):\", angle_between_lines)"
      ],
      "metadata": {
        "id": "bGD83Fcb1Lp7",
        "outputId": "8809990c-6ca7-4885-df94-96c34e81ef4d",
        "colab": {
          "base_uri": "https://localhost:8080/"
        }
      },
      "execution_count": 8,
      "outputs": [
        {
          "output_type": "stream",
          "name": "stdout",
          "text": [
            "4. Intersection point: {x: 1, y: 5}\n",
            "   Angle between lines (in radians): 0.141897054604164\n"
          ]
        }
      ]
    },
    {
      "cell_type": "code",
      "source": [
        "# Line Equation Examples in Python (Symbolic Calculations)\n",
        "\n",
        "## 5. Line passing through \\( A(1, 2) \\) and parallel to the vector \\( [2, 3] \\).\n",
        "\n",
        "### Python Code:\n",
        "import sympy as sp\n",
        "from sympy import Eq\n",
        "\n",
        "x, y = sp.symbols('x y')\n",
        "A = (1, 2)\n",
        "vector = (2, 3)\n",
        "# Symmetric form of the line\n",
        "line_5 = Eq((x - A[0]) / vector[0], (y - A[1]) / vector[1])  # Symmetric form\n",
        "print(\"5. Line passing through A and parallel to vector [2, 3]:\", line_5)"
      ],
      "metadata": {
        "id": "2-12PvFK1Nhv",
        "outputId": "f86ca2db-d41f-4da5-b23a-81a7a42870cc",
        "colab": {
          "base_uri": "https://localhost:8080/"
        }
      },
      "execution_count": 9,
      "outputs": [
        {
          "output_type": "stream",
          "name": "stdout",
          "text": [
            "5. Line passing through A and parallel to vector [2, 3]: Eq(x/2 - 1/2, y/3 - 2/3)\n"
          ]
        }
      ]
    },
    {
      "cell_type": "code",
      "source": [
        "# Line Equation Examples in Python (Symbolic Calculations)\n",
        "\n",
        "## 6. Example of a line perpendicular and parallel to \\( y = 2x + 3 \\).\n",
        "\n",
        "### Python Code:\n",
        "import sympy as sp\n",
        "from sympy import Eq\n",
        "\n",
        "x, y = sp.symbols('x y')\n",
        "\n",
        "# Example of a parallel line\n",
        "parallel_line_example = Eq(y, 2 * x - 1)  # Same slope, different intercept\n",
        "\n",
        "# Example of a perpendicular line\n",
        "perpendicular_line_example = Eq(y, -0.5 * x + 1)  # Negative reciprocal slope\n",
        "\n",
        "print(\"6. Example of a parallel line to y=2x+3:\", parallel_line_example)\n",
        "print(\"   Example of a perpendicular line to y=2x+3:\", perpendicular_line_example)"
      ],
      "metadata": {
        "id": "6S2re_QW1QBW",
        "outputId": "4819ac19-bf98-4c1c-8459-39d7d8d66d91",
        "colab": {
          "base_uri": "https://localhost:8080/"
        }
      },
      "execution_count": 10,
      "outputs": [
        {
          "output_type": "stream",
          "name": "stdout",
          "text": [
            "6. Example of a parallel line to y=2x+3: Eq(y, 2*x - 1)\n",
            "   Example of a perpendicular line to y=2x+3: Eq(y, 1 - 0.5*x)\n"
          ]
        }
      ]
    },
    {
      "cell_type": "code",
      "source": [
        "# Line Equation Examples in Python (Symbolic Calculations)\n",
        "\n",
        "## 7. Distance from \\( A(1, 2) \\) to the line \\( y = 2x + 3 \\).\n",
        "\n",
        "### Python Code:\n",
        "import sympy as sp\n",
        "from sympy import Eq\n",
        "\n",
        "x, y = sp.symbols('x y')\n",
        "\n",
        "# Define the line\n",
        "line_7 = Eq(y, 2 * x + 3)\n",
        "\n",
        "# Define the point A(1, 2)\n",
        "A = (1, 2)\n",
        "\n",
        "# Use the distance formula\n",
        "distance_from_point_to_line = sp.Abs(2 * A[0] - A[1] + 3) / sp.sqrt(2**2 + 1)  # General formula\n",
        "print(\"7. Distance from A to y=2x+3:\", distance_from_point_to_line)"
      ],
      "metadata": {
        "id": "glMMCq9Q1SF5",
        "outputId": "fd71cda0-3490-4967-b4f2-fc0192bff356",
        "colab": {
          "base_uri": "https://localhost:8080/"
        }
      },
      "execution_count": 11,
      "outputs": [
        {
          "output_type": "stream",
          "name": "stdout",
          "text": [
            "7. Distance from A to y=2x+3: 3*sqrt(5)/5\n"
          ]
        }
      ]
    },
    {
      "cell_type": "code",
      "source": [
        "# Line Equation Examples in Python (Symbolic Calculations)\n",
        "\n",
        "## 8. Line intersecting the coordinate axes at points \\( A(2, 0) \\) and \\( B(0, 3) \\).\n",
        "\n",
        "### Python Code:\n",
        "import sympy as sp\n",
        "from sympy import Eq\n",
        "\n",
        "x, y = sp.symbols('x y')\n",
        "\n",
        "# Points where the line intersects the axes\n",
        "A = (2, 0)\n",
        "B = (0, 3)\n",
        "\n",
        "# Calculate the slope\n",
        "slope_8 = (B[1] - A[1]) / (B[0] - A[0])\n",
        "\n",
        "# Equation of the line using the point-slope form\n",
        "line_8 = Eq(y - A[1], slope_8 * (x - A[0]))\n",
        "print(\"8. Line equation intersecting at A(2, 0) and B(0, 3):\", sp.simplify(line_8))\n"
      ],
      "metadata": {
        "id": "Y7ebvHvg1UiZ",
        "outputId": "873a7141-5bf7-4de3-f088-6f8556a8915f",
        "colab": {
          "base_uri": "https://localhost:8080/"
        }
      },
      "execution_count": 12,
      "outputs": [
        {
          "output_type": "stream",
          "name": "stdout",
          "text": [
            "8. Line equation intersecting at A(2, 0) and B(0, 3): Eq(1.5*x + 1.0*y, 3.0)\n"
          ]
        }
      ]
    },
    {
      "cell_type": "code",
      "source": [
        "# Line Equation Examples in Python (Symbolic Calculations)\n",
        "\n",
        "## 9. Angle between the line \\( y = x + 3 \\) and the \\( O_x \\) axis.\n",
        "\n",
        "### Python Code:\n",
        "\n",
        "import sympy as sp\n",
        "from sympy import atan\n",
        "\n",
        "# The slope of the line y = x + 3 is 1\n",
        "angle_with_ox = sp.atan(1)  # atan(m), where m = 1\n",
        "print(\"9. Angle between y=x+3 and Ox axis (in radians):\", angle_with_ox)"
      ],
      "metadata": {
        "id": "q5s16bAQ1WRW",
        "outputId": "ae30abbe-8fa7-410f-bc08-011564ca57fe",
        "colab": {
          "base_uri": "https://localhost:8080/"
        }
      },
      "execution_count": 13,
      "outputs": [
        {
          "output_type": "stream",
          "name": "stdout",
          "text": [
            "9. Angle between y=x+3 and Ox axis (in radians): pi/4\n"
          ]
        }
      ]
    },
    {
      "cell_type": "code",
      "source": [
        "# Line Equation Examples in Python (Symbolic Calculations)\n",
        "## 10. Vector perpendicular to the line \\( x + y + 1 = 0 \\).\n",
        "\n",
        "### Python Code:\n",
        "\n",
        "# The coefficients of x and y in the line equation represent the normal vector\n",
        "normal_vector = (1, 1)  # Coefficients of x and y in the line equation\n",
        "print(\"10. Perpendicular vector to x + y + 1 = 0:\", normal_vector)"
      ],
      "metadata": {
        "id": "X9R3VrPj1YtE",
        "outputId": "f48b28ef-cdef-4678-98ed-95edeb8e9c0a",
        "colab": {
          "base_uri": "https://localhost:8080/"
        }
      },
      "execution_count": 14,
      "outputs": [
        {
          "output_type": "stream",
          "name": "stdout",
          "text": [
            "10. Perpendicular vector to x + y + 1 = 0: (1, 1)\n"
          ]
        }
      ]
    }
  ]
}