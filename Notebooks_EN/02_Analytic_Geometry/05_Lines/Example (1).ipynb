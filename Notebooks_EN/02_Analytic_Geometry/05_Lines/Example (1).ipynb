{
  "nbformat": 4,
  "nbformat_minor": 0,
  "metadata": {
    "colab": {
      "provenance": []
    },
    "kernelspec": {
      "name": "python3",
      "display_name": "Python 3"
    },
    "language_info": {
      "name": "python"
    }
  },
  "cells": [
    {
      "cell_type": "markdown",
      "source": [
        "# Line or whatever subject\n",
        "\n",
        "Write notes on your own! In each geometry folder make a separate file. Use ChatGPT to generate notes based on list of topics:\n",
        "\n",
        "\tAnalytical Geometry\n",
        "\n",
        "\tLines\n",
        "\tTypes of line equations in the plane.\n",
        "\tGeneral equation of a line.\n",
        "\tCanonical equation of a line.\n",
        "\tLine equation in intercept form on the coordinate axes.\n",
        "\tLine equation in slope form.\n",
        "\tLine equation passing through a given point in a given direction.\n",
        "\tLine equation passing through two given points.\n",
        "\tRelative positions of lines in the plane.\n",
        "\tIntersection of two lines.\n",
        "\tAngle between two lines.\n",
        "\tConditions for parallelism and perpendicularity of two lines.\n",
        "\n",
        "\tPlanes\n",
        "\tPlanes in space.\n",
        "\tVector equation of a plane.\n",
        "\tGeneral equation of a plane.\n",
        "\tPlane equation passing through three points.\n",
        "\tPlane equation in intercept form on the coordinate axes.\n",
        "\tSpecial cases of plane positioning.\n",
        "\tAngle between two planes.\n",
        "\tConditions for parallelism and perpendicularity of two planes.\n",
        "\tLine in space.\n",
        "\tTypes of line equations in space.\n",
        "\tRelative positions of a line and a plane.\n",
        "\tRelative positions of two lines.\n",
        "\tAngle between a line and a plane.\n",
        "\n",
        "\tSecond-Order Curves\n",
        "\tCanonical equations of the circle, ellipse, hyperbola, and parabola.\n",
        "\tEquations of second-order curves with a shifted center.\n",
        "\tReduction of the general second-order curve equation to canonical form.\n",
        "\n",
        "\tSecond-Order Surfaces\n",
        "\tGeneral equations of the ellipsoid, sphere, and hyperboloid.\n",
        "\tRotational surfaces.\n"
      ],
      "metadata": {
        "id": "SVa9rLOXgzJe"
      }
    },
    {
      "cell_type": "markdown",
      "source": [
        "## Magic formula for ChatGPT\n",
        "\n",
        "**Ask ChatpGPT from OpenAI, Cloude, Full Gemini (don't use Gemini here because it is too small model to handle it):**\n",
        "\n",
        "\n",
        "\n",
        "> Please generate me markdown code academic notes, with plenty of equations (harvard student notes!) for the given list of topics below. As I need it for colab and github make sure you give all equations and math formula using $...$ and $$...$$.\n",
        "\n",
        "List of topics to cover:\n",
        "\n",
        "Types of line equations in the plane.\n",
        "General equation of a line.\n",
        "Canonical equation of a line.\n",
        "Line equation in intercept form on the coordinate axes.\n",
        "Line equation in slope form.\n",
        "Line equation passing through a given point in a given direction.\n",
        "Line equation passing through two given points.\n",
        "Relative positions of lines in the plane.\n",
        "Intersection of two lines.\n",
        "Angle between two lines.\n",
        "Conditions for parallelism and perpendicularity of two lines.\n",
        "\n",
        "\n",
        "\n"
      ],
      "metadata": {
        "id": "5SDlikNRhas0"
      }
    },
    {
      "cell_type": "markdown",
      "source": [],
      "metadata": {
        "id": "YBha9MC0howb"
      }
    },
    {
      "cell_type": "markdown",
      "source": [
        "# Types of Line Equations in the Plane\n",
        "\n",
        "# 1. General Equation of a Line\n",
        "# The most general form of a line is:\n",
        "# Ax + By + C = 0\n",
        "# A, B, C are constants. A and B cannot both be zero simultaneously.\n",
        "\n",
        "\n",
        "\n",
        "\n",
        "# 2. Slope (m)\n",
        "# The slope of a line is the ratio of the vertical change to the horizontal change:\n",
        "# m = Δy / Δx\n",
        "\n",
        "\n",
        "\n",
        "# 3. Canonical (Point-Slope) Form of a Line\n",
        "# The equation of a line passing through a point (x1, y1) with slope m:\n",
        "# y - y1 = m(x - x1)\n",
        "\n",
        "\n",
        "\n",
        "# 4. Line Equation in Intercept Form\n",
        "# If a line intersects the x-axis at (a, 0) and the y-axis at (0, b):\n",
        "# (x/a) + (y/b) = 1\n",
        "\n",
        "\n",
        "\n",
        "# 5. Line Equation in Slope-Intercept Form\n",
        "# A line with slope m and y-intercept c:\n",
        "# y = mx + c\n",
        "\n",
        "\n",
        "\n",
        "# 6. Line Passing Through a Given Point in a Given Direction\n",
        "# If a line passes through (x1, y1) and has a direction vector (p, q):\n",
        "# Parametric Form:\n",
        "# x = x1 + pt, y = y1 + qt\n",
        "# Symmetric Form:\n",
        "# (x - x1)/p = (y - y1)/q\n",
        "\n",
        "\n",
        "\n",
        "# 7. Line Passing Through Two Given Points\n",
        "# A line passing through two points (x1, y1) and (x2, y2):\n",
        "# y - y1 = [(y2 - y1) / (x2 - x1)] * (x - x1)\n",
        "\n",
        "\n",
        "\n",
        "# 8. Relative Positions of Lines in the Plane\n",
        "# Parallel Lines: Two lines are parallel if their slopes are equal (m1 = m2).\n",
        "# Intersecting Lines: Two lines intersect at exactly one point.\n",
        "# Coincident Lines: Two lines are coincident if they share all points.\n",
        "\n",
        "\n",
        "\n",
        "# 9. Intersection of Two Lines\n",
        "# To find the intersection of two lines:\n",
        "# Ax + By + C = 0\n",
        "# Dx + Ey + F = 0\n",
        "# Solve this system of equations to find the intersection point (x, y).\n",
        "\n",
        "\n",
        "\n",
        "# 10. Angle Between Two Lines\n",
        "# If the slopes of two lines are m1 and m2, the angle θ between them:\n",
        "# tan(θ) = |(m2 - m1) / (1 + m1 * m2)|\n",
        "\n",
        "\n",
        "\n",
        "# 11. Conditions for Parallelism and Perpendicularity\n",
        "# Parallel Lines: m1 = m2\n",
        "# Perpendicular Lines: m1 * m2 = -1\n"
      ],
      "metadata": {
        "id": "Wa7m-gzN0Ups"
      }
    },
    {
      "cell_type": "markdown",
      "source": [
        "# Exercies copied from github markdowns!\n",
        "\n",
        "(that are no openable in colab!) We like everything in one place, so visit your github directly in browser and just enter edit and copy markdown code."
      ],
      "metadata": {
        "id": "6-kVkPFog8NZ"
      }
    },
    {
      "cell_type": "markdown",
      "source": [
        "# Solutions\n",
        "\n",
        "Text..."
      ],
      "metadata": {
        "id": "3wgcdwT5hFQH"
      }
    },
    {
      "cell_type": "code",
      "source": [
        "import sympy as sp\n",
        "from sympy import Eq\n"
      ],
      "metadata": {
        "id": "Qv3Rsi371cTT"
      },
      "execution_count": 2,
      "outputs": []
    },
    {
      "cell_type": "code",
      "source": [
        "# 1. The line passes through points A(1, 2) and B(3, 4). Find the equation of the line.\n",
        "x, y = sp.symbols('x y')\n",
        "A = (1, 2)\n",
        "B = (3, 4)\n",
        "slope_1 = (B[1] - A[1]) / (B[0] - A[0])  # Calculate slope\n",
        "line_1 = Eq(y - A[1], slope_1 * (x - A[0]))  # Point-slope form\n",
        "print(\"1. Line equation passing through A and B:\", sp.simplify(line_1))"
      ],
      "metadata": {
        "id": "LqItIWt0g7mb",
        "outputId": "e9e348e7-d603-4f10-acba-41a81128eb99",
        "colab": {
          "base_uri": "https://localhost:8080/"
        }
      },
      "execution_count": 3,
      "outputs": [
        {
          "output_type": "stream",
          "name": "stdout",
          "text": [
            "1. Line equation passing through A and B: Eq(1.0*x - 1.0*y, -1.0)\n"
          ]
        }
      ]
    },
    {
      "cell_type": "code",
      "source": [
        "# 2. The line passes through point A(1, 2) and is parallel to the line y = 2x + 3. Find the equation of the line.\n",
        "parallel_slope = 2  # Slope of the given line\n",
        "line_2 = Eq(y - A[1], parallel_slope * (x - A[0]))  # Parallel line equation\n",
        "print(\"2. Line equation parallel to y=2x+3:\", sp.simplify(line_2))"
      ],
      "metadata": {
        "id": "5aJOMPjb1F49",
        "outputId": "268b5e50-23d9-4a14-c5da-f4d3055d7826",
        "colab": {
          "base_uri": "https://localhost:8080/"
        }
      },
      "execution_count": 4,
      "outputs": [
        {
          "output_type": "stream",
          "name": "stdout",
          "text": [
            "2. Line equation parallel to y=2x+3: Eq(y, 2*x)\n"
          ]
        }
      ]
    },
    {
      "cell_type": "code",
      "source": [
        "# 3. The line passes through point A(1, 2) and is perpendicular to the line y = 2x + 3. Find the equation of the line.\n",
        "perpendicular_slope = -1 / parallel_slope  # Perpendicular slope\n",
        "line_3 = Eq(y - A[1], perpendicular_slope * (x - A[0]))  # Perpendicular line equation\n",
        "print(\"3. Line equation perpendicular to y=2x+3:\", sp.simplify(line_3))"
      ],
      "metadata": {
        "id": "sEWrdkls1JeE",
        "outputId": "dd8579f3-ba94-49a5-9304-cbfcd4fdaab0",
        "colab": {
          "base_uri": "https://localhost:8080/"
        }
      },
      "execution_count": 5,
      "outputs": [
        {
          "output_type": "stream",
          "name": "stdout",
          "text": [
            "3. Line equation perpendicular to y=2x+3: Eq(0.5*x + 1.0*y, 2.5)\n"
          ]
        }
      ]
    },
    {
      "cell_type": "code",
      "source": [
        "# 4. Intersection of lines y = 2x + 3 and y = 3x + 2, and the angle between them.\n",
        "line_4_1 = Eq(y, 2*x + 3)\n",
        "line_4_2 = Eq(y, 3*x + 2)\n",
        "intersection_point = sp.solve([line_4_1, line_4_2], (x, y))  # Solve for intersection\n",
        "angle_between_lines = sp.atan(abs((3 - 2) / (1 + 2*3)))  # Angle formula\n",
        "print(\"4. Intersection point:\", intersection_point)\n",
        "print(\"   Angle between lines (in radians):\", angle_between_lines)"
      ],
      "metadata": {
        "id": "bGD83Fcb1Lp7",
        "outputId": "a883c8bb-1b9c-4fd2-ef0e-a0335ca321a9",
        "colab": {
          "base_uri": "https://localhost:8080/"
        }
      },
      "execution_count": 6,
      "outputs": [
        {
          "output_type": "stream",
          "name": "stdout",
          "text": [
            "4. Intersection point: {x: 1, y: 5}\n",
            "   Angle between lines (in radians): 0.141897054604164\n"
          ]
        }
      ]
    },
    {
      "cell_type": "code",
      "source": [
        "# 5. Line passing through A(1, 2) and parallel to the vector [2, 3].\n",
        "vector = (2, 3)\n",
        "line_5 = Eq((x - A[0]) / vector[0], (y - A[1]) / vector[1])  # Symmetric form\n",
        "print(\"5. Line passing through A and parallel to vector [2, 3]:\", line_5)"
      ],
      "metadata": {
        "id": "2-12PvFK1Nhv",
        "outputId": "856e6554-fe3e-4cc9-8368-938e9105870e",
        "colab": {
          "base_uri": "https://localhost:8080/"
        }
      },
      "execution_count": 7,
      "outputs": [
        {
          "output_type": "stream",
          "name": "stdout",
          "text": [
            "5. Line passing through A and parallel to vector [2, 3]: Eq(x/2 - 1/2, y/3 - 2/3)\n"
          ]
        }
      ]
    },
    {
      "cell_type": "code",
      "source": [
        "# 6. Example of a line perpendicular and parallel to y = 2x + 3.\n",
        "parallel_line_example = Eq(y, 2*x - 1)  # Example of parallel line\n",
        "perpendicular_line_example = Eq(y, -0.5*x + 1)  # Example of perpendicular line\n",
        "print(\"6. Example of a parallel line to y=2x+3:\", parallel_line_example)\n",
        "print(\"   Example of a perpendicular line to y=2x+3:\", perpendicular_line_example)"
      ],
      "metadata": {
        "id": "6S2re_QW1QBW",
        "outputId": "8f2d090b-1991-48aa-cadf-8712590613be",
        "colab": {
          "base_uri": "https://localhost:8080/"
        }
      },
      "execution_count": 8,
      "outputs": [
        {
          "output_type": "stream",
          "name": "stdout",
          "text": [
            "6. Example of a parallel line to y=2x+3: Eq(y, 2*x - 1)\n",
            "   Example of a perpendicular line to y=2x+3: Eq(y, 1 - 0.5*x)\n"
          ]
        }
      ]
    },
    {
      "cell_type": "code",
      "source": [
        "# 7. Distance from A(1, 2) to the line y = 2x + 3.\n",
        "line_7 = Eq(y, 2*x + 3)\n",
        "distance_from_point_to_line = sp.Abs(2*A[0] - A[1] + 3) / sp.sqrt(2**2 + 1)  # Distance formula\n",
        "print(\"7. Distance from A to y=2x+3:\", distance_from_point_to_line)"
      ],
      "metadata": {
        "id": "glMMCq9Q1SF5",
        "outputId": "4ebcd95a-25e5-4b89-830b-c86ee49f0317",
        "colab": {
          "base_uri": "https://localhost:8080/"
        }
      },
      "execution_count": 9,
      "outputs": [
        {
          "output_type": "stream",
          "name": "stdout",
          "text": [
            "7. Distance from A to y=2x+3: 3*sqrt(5)/5\n"
          ]
        }
      ]
    },
    {
      "cell_type": "code",
      "source": [
        "# 8. Line intersecting the coordinate axes at points A(2, 0) and B(0, 3).\n",
        "A = (2, 0)\n",
        "B = (0, 3)\n",
        "slope_8 = (B[1] - A[1]) / (B[0] - A[0])\n",
        "line_8 = Eq(y - A[1], slope_8 * (x - A[0]))\n",
        "print(\"8. Line equation intersecting at A(2, 0) and B(0, 3):\", sp.simplify(line_8))\n"
      ],
      "metadata": {
        "id": "Y7ebvHvg1UiZ",
        "outputId": "c49d4437-c84e-4c55-b7f4-af73dfe3181d",
        "colab": {
          "base_uri": "https://localhost:8080/"
        }
      },
      "execution_count": 10,
      "outputs": [
        {
          "output_type": "stream",
          "name": "stdout",
          "text": [
            "8. Line equation intersecting at A(2, 0) and B(0, 3): Eq(1.5*x + 1.0*y, 3.0)\n"
          ]
        }
      ]
    },
    {
      "cell_type": "code",
      "source": [
        "# 9. Angle between the line y = x + 3 and the Ox axis.\n",
        "angle_with_ox = sp.atan(1)  # Slope of y = x + 3 is 1\n",
        "print(\"9. Angle between y=x+3 and Ox axis (in radians):\", angle_with_ox)"
      ],
      "metadata": {
        "id": "q5s16bAQ1WRW",
        "outputId": "ec4b9c4d-fe29-47c2-8149-5e6555fe7a81",
        "colab": {
          "base_uri": "https://localhost:8080/"
        }
      },
      "execution_count": 11,
      "outputs": [
        {
          "output_type": "stream",
          "name": "stdout",
          "text": [
            "9. Angle between y=x+3 and Ox axis (in radians): pi/4\n"
          ]
        }
      ]
    },
    {
      "cell_type": "code",
      "source": [
        "# 10. Vector perpendicular to the line x + y + 1 = 0.\n",
        "normal_vector = (1, 1)  # Coefficients of x and y in the line equation\n",
        "print(\"10. Perpendicular vector to x + y + 1 = 0:\", normal_vector)"
      ],
      "metadata": {
        "id": "X9R3VrPj1YtE",
        "outputId": "0ded91c8-a142-4496-b664-33ed1fb4e909",
        "colab": {
          "base_uri": "https://localhost:8080/"
        }
      },
      "execution_count": 12,
      "outputs": [
        {
          "output_type": "stream",
          "name": "stdout",
          "text": [
            "10. Perpendicular vector to x + y + 1 = 0: (1, 1)\n"
          ]
        }
      ]
    }
  ]
}