{
  "cells": [
    {
      "cell_type": "markdown",
      "metadata": {
        "id": "fmf6o7Sj2wuH"
      },
      "source": [
        "# School Method for Solving Systems of Linear Equations"
      ]
    },
    {
      "cell_type": "code",
      "execution_count": null,
      "metadata": {
        "id": "IOpMWQ7x2wuJ"
      },
      "outputs": [],
      "source": [
        "import sympy as sp\n",
        "from sympy import symbols, Eq, expand, solve\n",
        "\n",
        "class EnhancedEq(Eq):\n",
        "    def __add__(self, other):\n",
        "        return EnhancedEq(self.lhs + other.lhs, self.rhs + other.rhs)\n",
        "\n",
        "    def __sub__(self, other):\n",
        "        return EnhancedEq(self.lhs - other.lhs, self.rhs - other.rhs)\n",
        "\n",
        "    def __mul__(self, scalar):\n",
        "        return EnhancedEq(scalar * self.lhs, scalar * self.rhs)\n",
        "\n",
        "    def __rmul__(self, scalar):\n",
        "        return self.__mul__(scalar)\n",
        "\n",
        "    def simplify(self):\n",
        "        return EnhancedEq(expand(self.lhs), expand(self.rhs))\n",
        "\n",
        "    def substitute(self, *args, **kwargs):\n",
        "        return EnhancedEq(self.lhs.subs(*args, **kwargs), self.rhs.subs(*args, **kwargs))\n",
        "\n",
        "    def solve_for(self, symbol):\n",
        "        return solve(self, symbol)\n",
        "\n",
        "# Example usage:\n",
        "x, y = symbols('x y')\n",
        "\n",
        "# Define equations\n",
        "eq1 = EnhancedEq(2*x + y, 5)\n",
        "eq2 = EnhancedEq(x - y, 1)"
      ]
    },
    {
      "cell_type": "code",
      "execution_count": null,
      "metadata": {
        "id": "4nzIXJ5D2wuK",
        "outputId": "2eea248e-c7dc-4c91-bce8-0a879605e89a"
      },
      "outputs": [
        {
          "name": "stdout",
          "output_type": "stream",
          "text": [
            "First equation:\n"
          ]
        },
        {
          "data": {
            "text/latex": [
              "$\\displaystyle 2 x + y = 5$"
            ],
            "text/plain": [
              "Eq(2*x + y, 5)"
            ]
          },
          "execution_count": 2,
          "metadata": {},
          "output_type": "execute_result"
        }
      ],
      "source": [
        "print(\"First equation:\")\n",
        "eq1"
      ]
    },
    {
      "cell_type": "code",
      "execution_count": null,
      "metadata": {
        "id": "fj6gjV6a2wuL",
        "outputId": "3e817a88-d097-44b4-ee9a-ab54d2b27b7a"
      },
      "outputs": [
        {
          "name": "stdout",
          "output_type": "stream",
          "text": [
            "Second equation:\n"
          ]
        },
        {
          "data": {
            "text/latex": [
              "$\\displaystyle x - y = 1$"
            ],
            "text/plain": [
              "Eq(x - y, 1)"
            ]
          },
          "execution_count": 3,
          "metadata": {},
          "output_type": "execute_result"
        }
      ],
      "source": [
        "print(\"Second equation:\")\n",
        "eq2"
      ]
    },
    {
      "cell_type": "code",
      "execution_count": null,
      "metadata": {
        "id": "C5iBczvm2wuL",
        "outputId": "e7c5fc89-b0c5-4878-b40b-55629f96e06f"
      },
      "outputs": [
        {
          "data": {
            "text/latex": [
              "$\\displaystyle 3 x = 6$"
            ],
            "text/plain": [
              "Eq(3*x, 6)"
            ]
          },
          "execution_count": 4,
          "metadata": {},
          "output_type": "execute_result"
        }
      ],
      "source": [
        "# Add the equations\n",
        "eq3 = eq1 + eq2\n",
        "eq3"
      ]
    },
    {
      "cell_type": "code",
      "execution_count": null,
      "metadata": {
        "id": "X7OnyDVB2wuL",
        "outputId": "7ff23a21-3fd9-4cfa-a973-9f82e2e57e43"
      },
      "outputs": [
        {
          "data": {
            "text/latex": [
              "$\\displaystyle 2$"
            ],
            "text/plain": [
              "2"
            ]
          },
          "execution_count": 5,
          "metadata": {},
          "output_type": "execute_result"
        }
      ],
      "source": [
        "# We have an equation with one unknown, so we can solve it\n",
        "sol_x = eq3.solve_for(x)[0]\n",
        "sol_x"
      ]
    },
    {
      "cell_type": "code",
      "execution_count": null,
      "metadata": {
        "id": "n4bReyvy2wuL",
        "outputId": "e1f8190d-b0d8-4238-bb10-f31dbda165f4"
      },
      "outputs": [
        {
          "data": {
            "text/latex": [
              "$\\displaystyle 2 - y = 1$"
            ],
            "text/plain": [
              "Eq(2 - y, 1)"
            ]
          },
          "execution_count": 6,
          "metadata": {},
          "output_type": "execute_result"
        }
      ],
      "source": [
        "# Substitute the solution into equation 2\n",
        "eq2 = eq2.substitute(x, sol_x)\n",
        "eq2"
      ]
    },
    {
      "cell_type": "code",
      "execution_count": null,
      "metadata": {
        "id": "RVr5Ctj72wuL",
        "outputId": "788a8aa2-9414-4ded-ddc2-0957efa892d3"
      },
      "outputs": [
        {
          "data": {
            "text/latex": [
              "$\\displaystyle 1$"
            ],
            "text/plain": [
              "1"
            ]
          },
          "execution_count": 7,
          "metadata": {},
          "output_type": "execute_result"
        }
      ],
      "source": [
        "# We get an equation with one unknown, so we can solve it\n",
        "eq2.solve_for(y)[0]"
      ]
    },
    {
      "cell_type": "code",
      "execution_count": null,
      "metadata": {
        "id": "mmA6fDux2wuM",
        "outputId": "097a2498-14dc-4850-b410-860f1b42821b"
      },
      "outputs": [
        {
          "data": {
            "text/plain": [
              "{x: 2, y: 1}"
            ]
          },
          "execution_count": 8,
          "metadata": {},
          "output_type": "execute_result"
        }
      ],
      "source": [
        "# Thus x=2, y=1\n",
        "# Verify with sympy\n",
        "sp.solve([eq1, eq2])"
      ]
    },
    {
      "cell_type": "markdown",
      "metadata": {
        "id": "pKSYOLwW2wuM"
      },
      "source": [
        "---\n",
        "\n",
        "### Exercises for Students\n",
        "\n",
        "Solve the following systems of equations similarly to the example above:\n",
        "\n",
        "* $3x-2y=5, \\quad 2x+3y=7$,\n",
        "* $2x-3y=10, \\quad 4x+5y=20$,\n",
        "* $2x - y + z = 3, \\quad x + 2y - z = 1, \\quad 3x - y + 2z = 11$.\n",
        "* $2x-3y+4z+2t=2, \\quad 3x+2y-5z+3t=3, \\quad 4x-3y+2z-5t=4, \\quad 5x+4y-3z+2t=5$."
      ]
    },
    {
      "cell_type": "code",
      "source": [
        "import numpy as np\n",
        "\n",
        "# Sistem 1: 3x - 2y = 5, 2x + 3y = 7\n",
        "A1 = np.array([[3, -2], [2, 3]])\n",
        "b1 = np.array([5, 7])\n",
        "\n",
        "# Sistem 2: 2x - 3y = 10, 4x + 5y = 20\n",
        "A2 = np.array([[2, -3], [4, 5]])\n",
        "b2 = np.array([10, 20])\n",
        "\n",
        "# Sistem 3: 2x - y + z = 3, x + 2y - z = 1, 3x - y + 2z = 11\n",
        "A3 = np.array([[2, -1, 1], [1, 2, -1], [3, -1, 2]])\n",
        "b3 = np.array([3, 1, 11])\n",
        "\n",
        "# Sistem 4: 2x - 3y + 4z + 2t = 2, 3x + 2y - 5z + 3t = 3, 5x + 4y - 3z + 2t = 5\n",
        "A4 = np.array([\n",
        "    [2, -3, 4, 2],\n",
        "    [3, 2, -5, 3],\n",
        "    [5, 4, -3, 2]\n",
        "])\n",
        "b4 = np.array([2, 3, 5])\n",
        "\n",
        "# Çözüm: NumPy'nin linalg.solve fonksiyonunu kullan\n",
        "try:\n",
        "    sol1 = np.linalg.solve(A1, b1)\n",
        "    print(\"Solution for System 1 (x, y):\", sol1)\n",
        "except np.linalg.LinAlgError as e:\n",
        "    print(\"System 1 Error:\", e)\n",
        "\n",
        "try:\n",
        "    sol2 = np.linalg.solve(A2, b2)\n",
        "    print(\"Solution for System 2 (x, y):\", sol2)\n",
        "except np.linalg.LinAlgError as e:\n",
        "    print(\"System 2 Error:\", e)\n",
        "\n",
        "try:\n",
        "    sol3 = np.linalg.solve(A3, b3)\n",
        "    print(\"Solution for System 3 (x, y, z):\", sol3)\n",
        "except np.linalg.LinAlgError as e:\n",
        "    print(\"System 3 Error:\", e)\n",
        "\n",
        "try:\n",
        "    sol4 = np.linalg.solve(A4, b4)\n",
        "    print(\"Solution for System 4 (x, y, z, t):\", sol4)\n",
        "except np.linalg.LinAlgError as e:\n",
        "    print(\"System 4 Error:\", e)"
      ],
      "metadata": {
        "id": "r4sKIC_32xkw",
        "outputId": "6c6268bc-65b5-4c0f-905c-a60696ae102e",
        "colab": {
          "base_uri": "https://localhost:8080/"
        }
      },
      "execution_count": 1,
      "outputs": [
        {
          "output_type": "stream",
          "name": "stdout",
          "text": [
            "Solution for System 1 (x, y): [2.23076923 0.84615385]\n",
            "Solution for System 2 (x, y): [ 5. -0.]\n",
            "Solution for System 3 (x, y, z): [-0.25  4.75  8.25]\n",
            "System 4 Error: Last 2 dimensions of the array must be square\n"
          ]
        }
      ]
    }
  ],
  "metadata": {
    "kernelspec": {
      "display_name": "Python 3",
      "language": "python",
      "name": "python3"
    },
    "language_info": {
      "codemirror_mode": {
        "name": "ipython",
        "version": 3
      },
      "file_extension": ".py",
      "mimetype": "text/x-python",
      "name": "python",
      "nbconvert_exporter": "python",
      "pygments_lexer": "ipython3",
      "version": "3.11.9"
    },
    "colab": {
      "provenance": []
    }
  },
  "nbformat": 4,
  "nbformat_minor": 0
}