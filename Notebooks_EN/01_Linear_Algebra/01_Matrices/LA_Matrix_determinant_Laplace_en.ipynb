{
  "cells": [
    {
      "cell_type": "markdown",
      "metadata": {
        "id": "tTanhWH7uFF1"
      },
      "source": [
        "# Determinants of 3x3 and 4x4 Matrices using Laplace expansion\n",
        "\n",
        "## Determinant of a 3x3 Matrix using Laplace expansion\n",
        "\n",
        "The general formula for the determinant of a 3x3 matrix is as follows:\n",
        "\n",
        "$$\n",
        "\\mathbf{A} =\n",
        "\\begin{pmatrix}\n",
        "a_{11} & a_{12} & a_{13} \\\\\n",
        "a_{21} & a_{22} & a_{23} \\\\\n",
        "a_{31} & a_{32} & a_{33}\n",
        "\\end{pmatrix}\n",
        "$$\n",
        "\n",
        "The determinant of a 3x3 matrix is calculated by expanding along the first row. We use Laplace expansion, which involves selecting elements of the first row and calculating the determinants of the 2x2 matrices that result from removing the appropriate rows and columns.\n",
        "\n",
        "Expanding along the first row of a 3x3 matrix:\n",
        "\n",
        "$$\n",
        "\\text{det}(A) =\n",
        "(-1)^{1+1}a_{11} \\cdot\n",
        "\\text{det}\n",
        "\\begin{pmatrix}\n",
        "a_{22} & a_{23} \\\\\n",
        "a_{32} & a_{33}\n",
        "\\end{pmatrix}\n",
        "+(-1)^{1+2} a_{12} \\cdot \\text{det}\n",
        "\\begin{pmatrix}\n",
        "a_{21} & a_{23} \\\\\n",
        "a_{31} & a_{33}\n",
        "\\end{pmatrix}\n",
        "+(-1)^{1+3}a_{13} \\cdot \\text{det}\n",
        "\\begin{pmatrix}\n",
        "a_{21} & a_{22} \\\\\n",
        "a_{31} & a_{32}\n",
        "\\end{pmatrix}\n",
        "$$\n",
        "\n",
        "### Example of a 3x3 Matrix\n",
        "\n",
        "For the matrix:\n",
        "\n",
        "$$\n",
        "\\mathbf{A} =\n",
        "\\begin{pmatrix}\n",
        "2 & 3 & 1 \\\\\n",
        "1 & 4 & 5 \\\\\n",
        "3 & 2 & 1\n",
        "\\end{pmatrix}\n",
        "$$\n",
        "\n",
        "Laplace expansion:\n",
        "\n",
        "$$\n",
        "\\text{det}(A) = 2 \\cdot\n",
        "\\text{det}\n",
        "\\begin{pmatrix}\n",
        "4 & 5 \\\\\n",
        "2 & 1\n",
        "\\end{pmatrix}\n",
        "- 3 \\cdot\n",
        "\\text{det}\n",
        "\\begin{pmatrix}\n",
        "1 & 5 \\\\\n",
        "3 & 1\n",
        "\\end{pmatrix}\n",
        "+ 1 \\cdot\n",
        "\\text{det}\n",
        "\\begin{pmatrix}\n",
        "1 & 4 \\\\\n",
        "3 & 2\n",
        "\\end{pmatrix}\n",
        "$$\n",
        "\n",
        "## Determinant of a 4x4 Matrix using Laplace Expansion\n",
        "\n",
        "The general formula for the determinant of a 4x4 matrix, where the matrix looks as follows:\n",
        "\n",
        "$$\n",
        "\\mathbf{B} =\n",
        "\\begin{pmatrix}\n",
        "a_{11} & a_{12} & a_{13} & a_{14} \\\\\n",
        "a_{21} & a_{22} & a_{23} & a_{24} \\\\\n",
        "a_{31} & a_{32} & a_{33} & a_{34} \\\\\n",
        "a_{41} & a_{42} & a_{43} & a_{44}\n",
        "\\end{pmatrix}\n",
        "$$\n",
        "\n",
        "The determinant of a 4x4 matrix is calculated by expanding along the first row. Similar to the 3x3 case, elements of the first row are multiplied by the determinants of the 3x3 matrices that result from removing the appropriate rows and columns.\n",
        "\n",
        "Expanding along the first row of a 4x4 matrix:\n",
        "\n",
        "$$\n",
        "\\text{det}(B) =\n",
        "(-1)^{1+1} \\cdot\n",
        "a_{11} \\cdot \\text{det}\n",
        "\\begin{pmatrix}\n",
        "a_{22} & a_{23} & a_{24} \\\\\n",
        "a_{32} & a_{33} & a_{34} \\\\\n",
        "a_{42} & a_{43} & a_{44}\n",
        "\\end{pmatrix}\n",
        "+ (-1)^{1+2} \\cdot\n",
        "a_{12} \\cdot \\text{det}\n",
        "\\begin{pmatrix}\n",
        "a_{21} & a_{23} & a_{24} \\\\\n",
        "a_{31} & a_{33} & a_{34} \\\\\n",
        "a_{41} & a_{43} & a_{44}\n",
        "\\end{pmatrix}\n",
        "+ (-1)^{1+3} \\cdot\n",
        "a_{13} \\cdot \\text{det}\n",
        "\\begin{pmatrix}\n",
        "a_{21} & a_{22} & a_{24} \\\\\n",
        "a_{31} & a_{32} & a_{34} \\\\\n",
        "a_{41} & a_{42} & a_{44}\n",
        "\\end{pmatrix}\n",
        "+ (-1)^{1+4} \\cdot\n",
        "a_{14} \\cdot \\text{det}\n",
        "\\begin{pmatrix}\n",
        "a_{21} & a_{22} & a_{23} \\\\\n",
        "a_{31} & a_{32} & a_{33} \\\\\n",
        "a_{41} & a_{42} & a_{43}\n",
        "\\end{pmatrix}\n",
        "$$\n",
        "\n",
        "### Example of a 4x4 Matrix\n",
        "\n",
        "For the matrix:\n",
        "\n",
        "$$\n",
        "\\mathbf{B} =\n",
        "\\begin{pmatrix}\n",
        "2 & 3 & 1 & 4 \\\\\n",
        "1 & 4 & 5 & 6 \\\\\n",
        "3 & 2 & 1 & 5 \\\\\n",
        "2 & 1 & 4 & 3\n",
        "\\end{pmatrix}\n",
        "$$\n",
        "\n",
        "Laplace expansion:\n",
        "\n",
        "$$\n",
        "\\text{det}(B) = 2 \\cdot \\text{det}\n",
        "\\begin{pmatrix}\n",
        "4 & 5 & 6 \\\\\n",
        "2 & 1 & 5 \\\\\n",
        "1 & 4 & 3\n",
        "\\end{pmatrix}\n",
        "- 3 \\cdot \\text{det}\n",
        "\\begin{pmatrix}\n",
        "1 & 5 & 6 \\\\\n",
        "3 & 1 & 5 \\\\\n",
        "2 & 4 & 3\n",
        "\\end{pmatrix}\n",
        "+ 1 \\cdot \\text{det}\n",
        "\\begin{pmatrix}\n",
        "1 & 4 & 6 \\\\\n",
        "3 & 2 & 5 \\\\\n",
        "2 & 1 & 3\n",
        "\\end{pmatrix}\n",
        "- 4 \\cdot \\text{det}\n",
        "\\begin{pmatrix}\n",
        "1 & 4 & 5 \\\\\n",
        "3 & 2 & 1 \\\\\n",
        "2 & 1 & 4\n",
        "\\end{pmatrix}\n",
        "$$\n",
        "\n",
        "### Calculating Determinants in Python using SymPy\n",
        "\n",
        "Below we will calculate the determinants of 3x3 and 4x4 matrices using Laplace expansion in Python, using the **SymPy** library."
      ]
    },
    {
      "cell_type": "code",
      "execution_count": null,
      "metadata": {
        "id": "qYgibPLHuFF5",
        "outputId": "690262da-f3c3-4b00-86c2-86a1a597365a"
      },
      "outputs": [
        {
          "data": {
            "text/latex": [
              "$\\displaystyle \\left[\\begin{matrix}2 & 3 & 1\\\\1 & 4 & 5\\\\3 & 2 & 1\\end{matrix}\\right]$"
            ],
            "text/plain": [
              "Matrix([\n",
              "[2, 3, 1],\n",
              "[1, 4, 5],\n",
              "[3, 2, 1]])"
            ]
          },
          "execution_count": 1,
          "metadata": {},
          "output_type": "execute_result"
        }
      ],
      "source": [
        "import sympy as sp\n",
        "\n",
        "# 3x3 Matrix\n",
        "A = sp.Matrix([[2, 3, 1], [1, 4, 5], [3, 2, 1]])\n",
        "A"
      ]
    },
    {
      "cell_type": "code",
      "execution_count": null,
      "metadata": {
        "id": "mW3F92jKuFF6",
        "outputId": "1b907555-8c85-421c-a609-e9bce7a454bb"
      },
      "outputs": [
        {
          "data": {
            "text/plain": [
              "True"
            ]
          },
          "execution_count": 2,
          "metadata": {},
          "output_type": "execute_result"
        }
      ],
      "source": [
        "# Select the first row [2, 3, 1]\n",
        "# Define the appropriate minors\n",
        "M11 = sp.Matrix([[4, 5], [2, 1]])\n",
        "M12 = sp.Matrix([[1, 5], [3, 1]])\n",
        "M13 = sp.Matrix([[1, 4], [3, 2]])\n",
        "\n",
        "# Calculate the determinant\n",
        "d = 2*M11.det() - 3*M12.det() + 1*M13.det()\n",
        "\n",
        "d == A.det()"
      ]
    },
    {
      "cell_type": "code",
      "execution_count": null,
      "metadata": {
        "id": "3qZJOK6duFF7",
        "outputId": "6d1d5878-eb6f-4fe7-deff-d4d10a607d42"
      },
      "outputs": [
        {
          "data": {
            "text/latex": [
              "$\\displaystyle \\left[\\begin{matrix}2 & 0 & 1 & 0\\\\1 & 4 & 5 & 6\\\\3 & 2 & 1 & 5\\\\2 & 1 & 4 & 3\\end{matrix}\\right]$"
            ],
            "text/plain": [
              "Matrix([\n",
              "[2, 0, 1, 0],\n",
              "[1, 4, 5, 6],\n",
              "[3, 2, 1, 5],\n",
              "[2, 1, 4, 3]])"
            ]
          },
          "execution_count": 3,
          "metadata": {},
          "output_type": "execute_result"
        }
      ],
      "source": [
        "# 4x4 Matrix\n",
        "B = sp.Matrix([[2, 0, 1, 0], [1, 4, 5, 6], [3, 2, 1, 5], [2, 1, 4, 3]])\n",
        "B"
      ]
    },
    {
      "cell_type": "code",
      "execution_count": null,
      "metadata": {
        "id": "AbJozXASuFF7",
        "outputId": "541c53b4-74e9-4b73-9283-57b7f3d5abfb"
      },
      "outputs": [
        {
          "data": {
            "text/plain": [
              "True"
            ]
          },
          "execution_count": 4,
          "metadata": {},
          "output_type": "execute_result"
        }
      ],
      "source": [
        "# Verify the correctness of the calculations\n",
        "M11 = sp.Matrix([[4, 5, 6], [2, 1, 5], [1, 4, 3]])\n",
        "M12 = sp.Matrix([[1, 5, 6], [3, 1, 5], [2, 4, 3]])\n",
        "M13 = sp.Matrix([[1, 4, 6], [3, 2, 5], [2, 1, 3]])\n",
        "M14 = sp.Matrix([[1, 4, 5], [3, 2, 1], [2, 1, 4]])\n",
        "\n",
        "(2*M11.det() - 0*M12.det() + 1*M13.det() - 0*M14.det()) == B.det()\n",
        "\n",
        "d = 2*M11.det() - 0*M12.det() + 1*M13.det() - 0*M14.det()\n",
        "d == B.det()"
      ]
    },
    {
      "cell_type": "markdown",
      "metadata": {
        "id": "L-0m6Y1luFF7"
      },
      "source": [
        "Note that only the first and third terms have non-zero coefficients, so it is not necessary to calculate the determinants of all minors!\n",
        "\n",
        "---\n",
        "\n",
        "## Exercises for Students\n",
        "\n",
        "Calculate the determinants of the following matrices:\n",
        "\n",
        "$$\n",
        "\\mathbf{A} =\n",
        "\\begin{pmatrix}\n",
        "2 & 3 & 1 \\\\\n",
        "1 & 4 & 0 \\\\\n",
        "3 & 2 & 1\n",
        "\\end{pmatrix}\n",
        ",\\qquad\n",
        "\\mathbf{B} =\n",
        "\\begin{pmatrix}\n",
        "2 & 3 & 1 \\\\\n",
        "1 & 4 & 0 \\\\\n",
        "3 & 2 & 0  \\\\\n",
        "\\end{pmatrix}\n",
        ",\\qquad\n",
        "\\mathbf{C} =\n",
        "\\begin{pmatrix}\n",
        "2 & 3 & 1 & 4 \\\\\n",
        "1 & 0 & 0 & 6 \\\\\n",
        "3 & 2 & 1 & 5 \\\\\n",
        "2 & 1 & 4 & 0\n",
        "\\end{pmatrix}\n",
        ",\\qquad\n",
        "\\mathbf{D} =\n",
        "\\begin{pmatrix}\n",
        "2 & 3 & 1 & 4 & 5 \\\\\n",
        "1 & 4 & 0 & 0 & 7 \\\\\n",
        "3 & 0 & 0 & 0 & 0 \\\\\n",
        "2 & 1 & 4 & 3 & 2 \\\\\n",
        "1 & 2 & 3 & 4 & 5\n",
        "\\end{pmatrix}\n",
        "$$"
      ]
    },
    {
      "cell_type": "code",
      "source": [
        "import numpy as np\n",
        "\n",
        "# Matrisler\n",
        "A = np.array([[2, 3, 1],\n",
        "              [1, 4, 0],\n",
        "              [3, 2, 1]])\n",
        "\n",
        "B = np.array([[2, 3, 1],\n",
        "              [1, 4, 0],\n",
        "              [3, 2, 0]])\n",
        "\n",
        "C = np.array([[2, 3, 1, 4],\n",
        "              [1, 0, 0, 6],\n",
        "              [3, 2, 1, 5],\n",
        "              [2, 1, 4, 0]])\n",
        "\n",
        "D = np.array([[2, 3, 1, 4, 5],\n",
        "              [1, 4, 0, 0, 7],\n",
        "              [3, 0, 0, 0, 0],\n",
        "              [2, 1, 4, 3, 2],\n",
        "              [1, 3, 4, 5, 5]])\n",
        "\n",
        "# Determinant hesaplama\n",
        "det_A = np.linalg.det(A)\n",
        "det_B = np.linalg.det(B)\n",
        "det_C = np.linalg.det(C)\n",
        "det_D = np.linalg.det(D)\n",
        "\n",
        "# Sonuçları yazdırma\n",
        "print(\"Determinant of A:\", round(det_A))\n",
        "print(\"Determinant of B:\", round(det_B))\n",
        "print(\"Determinant of C:\", round(det_C))\n",
        "print(\"Determinant of D:\", round(det_D))"
      ],
      "metadata": {
        "colab": {
          "base_uri": "https://localhost:8080/"
        },
        "id": "Z0Fj85lMvM8m",
        "outputId": "da078971-2b0b-4ee0-e64c-9f712df3d107"
      },
      "execution_count": 3,
      "outputs": [
        {
          "output_type": "stream",
          "name": "stdout",
          "text": [
            "Determinant of A: -5\n",
            "Determinant of B: -10\n",
            "Determinant of C: -75\n",
            "Determinant of D: -48\n"
          ]
        }
      ]
    }
  ],
  "metadata": {
    "kernelspec": {
      "display_name": "Python 3",
      "language": "python",
      "name": "python3"
    },
    "language_info": {
      "codemirror_mode": {
        "name": "ipython",
        "version": 3
      },
      "file_extension": ".py",
      "mimetype": "text/x-python",
      "name": "python",
      "nbconvert_exporter": "python",
      "pygments_lexer": "ipython3",
      "version": "3.11.9"
    },
    "colab": {
      "provenance": []
    }
  },
  "nbformat": 4,
  "nbformat_minor": 0
}