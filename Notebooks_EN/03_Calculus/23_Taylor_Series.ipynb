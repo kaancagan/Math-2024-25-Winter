{
  "nbformat": 4,
  "nbformat_minor": 0,
  "metadata": {
    "colab": {
      "provenance": []
    },
    "kernelspec": {
      "name": "python3",
      "display_name": "Python 3"
    },
    "language_info": {
      "name": "python"
    }
  },
  "cells": [
    {
      "cell_type": "markdown",
      "source": [
        "\n",
        "# **23. Taylor Series**\n",
        "\n",
        "---\n",
        "\n",
        "## **1. Definition of Taylor Series**\n",
        "The Taylor series of a function \\( f(x) \\) around a point \\( x = a \\) is given by:\n",
        "$$\n",
        "f(x) = f(a) + f'(a)(x - a) + \\frac{f''(a)}{2!}(x - a)^2 + \\frac{f^{(3)}(a)}{3!}(x - a)^3 + \\dots\n",
        "$$\n",
        "This is an infinite series that approximates \\( f(x) \\) near \\( x = a \\).\n",
        "\n",
        "---\n",
        "\n",
        "## **2. Examples**\n",
        "\n",
        "### **a. \\( f(x) = \\cos(x) \\) around \\( x = 0 \\) (up to the 4th degree):**\n",
        "The derivatives of \\( \\cos(x) \\) are:\n",
        "1. \\( f(x) = \\cos(x), \\, f'(x) = -\\sin(x), \\, f''(x) = -\\cos(x), \\, f^{(3)}(x) = \\sin(x), \\, f^{(4)}(x) = \\cos(x) \\).\n",
        "2. At \\( x = 0 \\):\n",
        "   $$\n",
        "   f(0) = 1, \\, f'(0) = 0, \\, f''(0) = -1, \\, f^{(3)}(0) = 0, \\, f^{(4)}(0) = 1\n",
        "   $$\n",
        "3. Taylor series:\n",
        "   $$\n",
        "   \\cos(x) \\approx 1 - \\frac{x^2}{2!} + \\frac{x^4}{4!}\n",
        "   $$\n",
        "\n",
        "---\n",
        "\n",
        "### **b. \\( h(x) = \\frac{1}{1 - x} \\) around \\( x = 0 \\) (up to the 4th degree):**\n",
        "The derivatives of \\( \\frac{1}{1 - x} \\) are:\n",
        "1. \\( h(x) = (1 - x)^{-1}, \\, h'(x) = (1 - x)^{-2}, \\, h''(x) = 2(1 - x)^{-3}, \\dots \\).\n",
        "2. At \\( x = 0 \\):\n",
        "   $$\n",
        "   h(0) = 1, \\, h'(0) = 1, \\, h''(0) = 2, \\, h^{(3)}(0) = 6, \\, h^{(4)}(0) = 24\n",
        "   $$\n",
        "3. Taylor series:\n",
        "   $$\n",
        "   \\frac{1}{1 - x} \\approx 1 + x + x^2 + x^3 + x^4\n",
        "   $$\n",
        "\n",
        "---\n",
        "\n",
        "### **c. \\( g(x) = \\sin(x) \\) around \\( x = \\pi \\) (up to the 4th degree):**\n",
        "The derivatives of \\( \\sin(x) \\) are:\n",
        "1. \\( g(x) = \\sin(x), \\, g'(x) = \\cos(x), \\, g''(x) = -\\sin(x), \\, g^{(3)}(x) = -\\cos(x), \\, g^{(4)}(x) = \\sin(x) \\).\n",
        "2. At \\( x = \\pi \\):\n",
        "   $$\n",
        "   g(\\pi) = 0, \\, g'(\\pi) = -1, \\, g''(\\pi) = 0, \\, g^{(3)}(\\pi) = 1, \\, g^{(4)}(\\pi) = 0\n",
        "   $$\n",
        "3. Taylor series:\n",
        "   $$\n",
        "   \\sin(x) \\approx -(x - \\pi) + \\frac{(x - \\pi)^3}{3!}\n",
        "   $$\n",
        "\n",
        "---\n",
        "\n",
        "## **3. Tangent Line**\n",
        "The tangent line to a function \\( f(x) \\) at a point \\( x_0 \\) is given by:\n",
        "$$\n",
        "y = f'(x_0)(x - x_0) + f(x_0)\n",
        "$$\n",
        "\n",
        "### Example:\n",
        "Find the tangent line to \\( f(x) = e^{\\sin(x)} \\) at \\( x_0 = \\pi \\):\n",
        "1. Derivatives:\n",
        "   $$\n",
        "   f(x) = e^{\\sin(x)}, \\, f'(\\pi) = \\cos(\\pi)e^{\\sin(\\pi)} = -1\n",
        "   $$\n",
        "2. Function value at \\( x_0 = \\pi \\):\n",
        "   $$\n",
        "   f(\\pi) = e^{\\sin(\\pi)} = e^0 = 1\n",
        "   $$\n",
        "3. Tangent line:\n",
        "   $$\n",
        "   y = -1(x - \\pi) + 1 = -x + \\pi + 1\n",
        "   $$\n",
        "\n",
        "---\n",
        "\n",
        "## **4. Applications**\n",
        "### **a. Approximation**\n",
        "Taylor series provides polynomial approximations for functions near a given point.\n",
        "\n",
        "### **b. Error Analysis**\n",
        "The error in approximating \\( f(x) \\) using the Taylor series up to the \\( n \\)-th degree is given by:\n",
        "$$\n",
        "R_n(x) = \\frac{f^{(n+1)}(c)}{(n+1)!}(x - a)^{n+1}, \\quad \\text{for some } c \\text{ between } a \\text{ and } x.\n",
        "$$\n",
        "\n",
        "---\n",
        "\n",
        "## **5. Practice Problems**\n",
        "1. Find the Taylor series for \\( e^x \\) around \\( x = 1 \\) up to the 3rd degree.\n",
        "2. Determine the Taylor series of \\( \\ln(1 + x) \\) around \\( x = 0 \\) up to the 4th degree.\n",
        "3. Approximate \\( \\cos(x) \\) using the Taylor series around \\( x = \\pi/4 \\).\n",
        "\n",
        "---\n",
        "\"\"\"\n"
      ],
      "metadata": {
        "id": "NwK7EcFyLAOC"
      }
    },
    {
      "cell_type": "markdown",
      "source": [
        "# 23_Taylor_Series question solutions"
      ],
      "metadata": {
        "id": "tNp7pBDELEP3"
      }
    },
    {
      "cell_type": "code",
      "source": [
        "from sympy import symbols, cos, sin, series, exp, pi, diff\n",
        "\n",
        "# Tanımlamalar\n",
        "x = symbols('x')\n",
        "\n",
        "# 1. Taylor Serileri\n",
        "# (a) f(x) = cos(x) around x = 0 up to the 4th degree\n",
        "f = cos(x)\n",
        "taylor_f = series(f, x, 0, 5)  # 4th degree means up to (n=4)\n",
        "print(f\"1.a) Taylor series of cos(x) around x = 0 (up to 4th degree): {taylor_f}\")\n",
        "\n",
        "# (b) h(x) = 1 / (1 - x) around x = 0 up to the 4th degree\n",
        "h = 1 / (1 - x)\n",
        "taylor_h = series(h, x, 0, 5)  # 4th degree\n",
        "print(f\"1.b) Taylor series of 1 / (1 - x) around x = 0 (up to 4th degree): {taylor_h}\")\n",
        "\n",
        "# (c) g(x) = sin(x) around x = pi up to the 4th degree\n",
        "g = sin(x)\n",
        "taylor_g = series(g, x, pi, 5)  # 4th degree around x = pi\n",
        "print(f\"1.c) Taylor series of sin(x) around x = pi (up to 4th degree): {taylor_g}\")\n",
        "\n",
        "# 2. Teğet Çizgi\n",
        "# f(x) = e^(sin(x)) at x0 = pi\n",
        "f_tangent = exp(sin(x))\n",
        "x0 = pi  # Değer\n",
        "f_prime = diff(f_tangent, x)  # Türevi\n",
        "slope = f_prime.subs(x, x0)  # Eğimi hesapla\n",
        "y0 = f_tangent.subs(x, x0)  # Fonksiyonun değeri\n",
        "tangent_line = slope * (x - x0) + y0  # Teğet çizgi denklemi\n",
        "print(f\"2. Tangent line to e^(sin(x)) at x = pi: y = {tangent_line}\")"
      ],
      "metadata": {
        "id": "wV_a7qAfLM3V",
        "outputId": "ed189120-3a04-4bcc-b341-1bbe485d9970",
        "colab": {
          "base_uri": "https://localhost:8080/"
        }
      },
      "execution_count": 1,
      "outputs": [
        {
          "output_type": "stream",
          "name": "stdout",
          "text": [
            "1.a) Taylor series of cos(x) around x = 0 (up to 4th degree): 1 - x**2/2 + x**4/24 + O(x**5)\n",
            "1.b) Taylor series of 1 / (1 - x) around x = 0 (up to 4th degree): 1 + x + x**2 + x**3 + x**4 + O(x**5)\n",
            "1.c) Taylor series of sin(x) around x = pi (up to 4th degree): pi + (x - pi)**3/6 - x + O((x - pi)**5, (x, pi))\n",
            "2. Tangent line to e^(sin(x)) at x = pi: y = -x + 1 + pi\n"
          ]
        }
      ]
    }
  ]
}