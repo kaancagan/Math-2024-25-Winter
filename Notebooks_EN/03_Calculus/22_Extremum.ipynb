{
  "nbformat": 4,
  "nbformat_minor": 0,
  "metadata": {
    "colab": {
      "provenance": []
    },
    "kernelspec": {
      "name": "python3",
      "display_name": "Python 3"
    },
    "language_info": {
      "name": "python"
    }
  },
  "cells": [
    {
      "cell_type": "markdown",
      "source": [
        "\n",
        "# **22. Extremum**\n",
        "\n",
        "---\n",
        "\n",
        "## **1. Definition of Extrema**\n",
        "Extrema of a function \\( f(x) \\) are the points where \\( f(x) \\) attains a maximum or minimum value. These include:\n",
        "1. **Local Maximum**: \\( f(a) \\) is a local maximum if:\n",
        "   $$\n",
        "   f(a) \\geq f(x), \\quad \\text{for all } x \\text{ in a neighborhood of } a.\n",
        "   $$\n",
        "\n",
        "2. **Local Minimum**: \\( f(a) \\) is a local minimum if:\n",
        "   $$\n",
        "   f(a) \\leq f(x), \\quad \\text{for all } x \\text{ in a neighborhood of } a.\n",
        "   $$\n",
        "\n",
        "3. **Global Maximum and Minimum**: The maximum or minimum value over the entire domain.\n",
        "\n",
        "---\n",
        "\n",
        "## **2. Critical Points**\n",
        "Critical points occur where:\n",
        "1. \\( f'(x) = 0 \\)\n",
        "2. \\( f'(x) \\) does not exist\n",
        "\n",
        "Critical points are candidates for local extrema.\n",
        "\n",
        "---\n",
        "\n",
        "## **3. First Derivative Test**\n",
        "The **First Derivative Test** determines the behavior of \\( f(x) \\) around critical points:\n",
        "1. If \\( f'(x) \\) changes from positive to negative at \\( c \\), \\( f(c) \\) is a local maximum.\n",
        "2. If \\( f'(x) \\) changes from negative to positive at \\( c \\), \\( f(c) \\) is a local minimum.\n",
        "3. If \\( f'(x) \\) does not change sign, \\( f(c) \\) is not an extremum.\n",
        "\n",
        "---\n",
        "\n",
        "## **4. Second Derivative Test**\n",
        "The **Second Derivative Test** uses \\( f''(x) \\) to classify critical points:\n",
        "1. If \\( f''(c) > 0 \\), \\( f(c) \\) is a local minimum.\n",
        "2. If \\( f''(c) < 0 \\), \\( f(c) \\) is a local maximum.\n",
        "3. If \\( f''(c) = 0 \\), the test is inconclusive.\n",
        "\n",
        "---\n",
        "\n",
        "## **5. Concavity and Inflection Points**\n",
        "1. **Concavity**:\n",
        "   - \\( f(x) \\) is **concave up** if \\( f''(x) > 0 \\).\n",
        "   - \\( f(x) \\) is **concave down** if \\( f''(x) < 0 \\).\n",
        "\n",
        "2. **Inflection Point**:\n",
        "   - A point where \\( f(x) \\) changes concavity.\n",
        "   - Occurs where \\( f''(x) = 0 \\) and \\( f''(x) \\) changes sign.\n",
        "\n",
        "---\n",
        "\n",
        "## **6. Applications of Extrema**\n",
        "### **a. Optimization Problems**\n",
        "Find the maximum or minimum value of a function within a given interval.\n",
        "\n",
        "### **b. Curve Sketching**\n",
        "Use extrema, critical points, and concavity to sketch the graph of \\( f(x) \\).\n",
        "\n",
        "---\n",
        "\n",
        "## **7. Examples**\n",
        "### **a. Find Extrema**\n",
        "1. \\( f(x) = x^3 - 3x^2 + 4 \\)\n",
        "   - Compute \\( f'(x) \\):\n",
        "     $$\n",
        "     f'(x) = 3x^2 - 6x\n",
        "     $$\n",
        "   - Solve \\( f'(x) = 0 \\):\n",
        "     $$\n",
        "     3x^2 - 6x = 0 \\quad \\Rightarrow \\quad x(x - 2) = 0 \\quad \\Rightarrow \\quad x = 0, \\, x = 2\n",
        "     $$\n",
        "   - Use the **First Derivative Test** or **Second Derivative Test** to classify extrema.\n",
        "\n",
        "2. \\( f(x) = \\sin(x) + \\cos(x) \\) for \\( x \\in [0, 2\\pi] \\)\n",
        "   - Compute \\( f'(x) \\):\n",
        "     $$\n",
        "     f'(x) = \\cos(x) - \\sin(x)\n",
        "     $$\n",
        "   - Solve \\( f'(x) = 0 \\):\n",
        "     $$\n",
        "     \\cos(x) = \\sin(x) \\quad \\Rightarrow \\quad x = \\frac{\\pi}{4}, \\, x = \\frac{5\\pi}{4}\n",
        "     $$\n",
        "\n",
        "---\n",
        "\n",
        "## **8. Practice Problems**\n",
        "1. Find the local extrema of \\( f(x) = x^4 - 4x^3 + 10x - 5 \\).\n",
        "2. Determine the inflection points of \\( f(x) = x^3 - 6x^2 + 9x + 1 \\).\n",
        "3. Solve optimization problem: Maximize \\( f(x) = x^2e^{-x} \\).\n",
        "\n",
        "---\n",
        "\"\"\"\n"
      ],
      "metadata": {
        "id": "XO1Ph4-uJk65"
      }
    },
    {
      "cell_type": "markdown",
      "source": [
        "# 22_Extremum question solutions"
      ],
      "metadata": {
        "id": "_N9ftOSpJoo3"
      }
    },
    {
      "cell_type": "code",
      "source": [
        "from sympy import symbols, diff, solve\n",
        "\n",
        "# Problem 6: Maximize Profit\n",
        "u = symbols('u')\n",
        "P = -2*u**2 + 50*u - 300  # Profit function\n",
        "P_prime = diff(P, u)  # First derivative of P(u)\n",
        "critical_points = solve(P_prime, u)  # Solve P'(u) = 0\n",
        "max_profit_u = critical_points[0]  # The value of u that maximizes profit\n",
        "max_profit = P.subs(u, max_profit_u)  # Substitute u into P(u)\n",
        "print(f\"6. Units sold to maximize profit: {max_profit_u}\")\n",
        "print(f\"6. Maximum profit: {max_profit}\")\n",
        "\n",
        "# Problem 7: Largest Rectangle with Perimeter = 10 meters\n",
        "x = symbols('x')\n",
        "y = 10 / 2 - x  # Since perimeter = 2(x + y), y = 5 - x\n",
        "A = x * y  # Area of the rectangle\n",
        "A_prime = diff(A, x)  # First derivative of A(x)\n",
        "critical_x = solve(A_prime, x)  # Solve A'(x) = 0\n",
        "optimal_x = critical_x[0]  # The optimal value of x\n",
        "optimal_y = y.subs(x, optimal_x)  # Corresponding y value\n",
        "max_area = A.subs(x, optimal_x)  # Maximum area\n",
        "print(f\"7. Dimensions of the rectangle: x = {optimal_x}, y = {optimal_y}\")\n",
        "print(f\"7. Maximum area: {max_area}\")\n",
        "\n",
        "# Problem 8: Find extremum of f(x) = x^2 + 3x - 5\n",
        "f = x**2 + 3*x - 5  # Define the function\n",
        "f_prime = diff(f, x)  # First derivative of f(x)\n",
        "critical_points_f = solve(f_prime, x)  # Solve f'(x) = 0\n",
        "critical_x_f = critical_points_f[0]  # Critical point\n",
        "critical_y_f = f.subs(x, critical_x_f)  # Corresponding y value\n",
        "print(f\"8. Critical point of f(x): x = {critical_x_f}, y = {critical_y_f}\")\n",
        "\n",
        "# Problem 9: Find extremum of f(x) = (x^2 + 2x + 1) / (x - 1)\n",
        "f2 = (x**2 + 2*x + 1) / (x - 1)  # Define the function\n",
        "f2_prime = diff(f2, x)  # First derivative of f(x)\n",
        "critical_points_f2 = solve(f2_prime, x)  # Solve f'(x) = 0\n",
        "print(f\"9. Critical points of f(x): {critical_points_f2}\")"
      ],
      "metadata": {
        "id": "Jw-Ou3nqJwiC",
        "outputId": "2e2370df-ca5a-45f6-c648-dc2874bdb74a",
        "colab": {
          "base_uri": "https://localhost:8080/"
        }
      },
      "execution_count": 1,
      "outputs": [
        {
          "output_type": "stream",
          "name": "stdout",
          "text": [
            "6. Units sold to maximize profit: 25/2\n",
            "6. Maximum profit: 25/2\n",
            "7. Dimensions of the rectangle: x = 2.50000000000000, y = 2.50000000000000\n",
            "7. Maximum area: 6.25000000000000\n",
            "8. Critical point of f(x): x = -3/2, y = -29/4\n",
            "9. Critical points of f(x): [-1, 3]\n"
          ]
        }
      ]
    }
  ]
}